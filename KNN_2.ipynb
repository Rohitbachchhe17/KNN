{
  "nbformat": 4,
  "nbformat_minor": 0,
  "metadata": {
    "colab": {
      "private_outputs": true,
      "provenance": [],
      "authorship_tag": "ABX9TyPVoBcO8+hLnujw5YW3a7Wr",
      "include_colab_link": true
    },
    "kernelspec": {
      "name": "python3",
      "display_name": "Python 3"
    },
    "language_info": {
      "name": "python"
    }
  },
  "cells": [
    {
      "cell_type": "markdown",
      "metadata": {
        "id": "view-in-github",
        "colab_type": "text"
      },
      "source": [
        "<a href=\"https://colab.research.google.com/github/Rohitbachchhe17/KNN/blob/main/KNN_2.ipynb\" target=\"_parent\"><img src=\"https://colab.research.google.com/assets/colab-badge.svg\" alt=\"Open In Colab\"/></a>"
      ]
    },
    {
      "cell_type": "markdown",
      "source": [
        "# import the library"
      ],
      "metadata": {
        "id": "SvT4ma5x7_iJ"
      }
    },
    {
      "cell_type": "code",
      "source": [
        "import numpy as np\n",
        "import pandas as pd\n",
        "\n",
        "import matplotlib.pyplot as plt\n",
        "\n",
        "from sklearn.datasets import make_blobs\n",
        "from sklearn.neighbors import KNeighborsClassifier\n",
        "from sklearn.model_selection import train_test_split"
      ],
      "metadata": {
        "id": "KdRxUC9C8Chy"
      },
      "execution_count": null,
      "outputs": []
    },
    {
      "cell_type": "markdown",
      "source": [
        "# Creating the dataset"
      ],
      "metadata": {
        "id": "BTWx-22x8Hjt"
      }
    },
    {
      "cell_type": "code",
      "source": [
        "X, y = make_blobs(n_samples = 500, n_features = 2, centers = 4,cluster_std = 1.5, random_state = 4)"
      ],
      "metadata": {
        "id": "k8D6ZItC8Lh2"
      },
      "execution_count": null,
      "outputs": []
    },
    {
      "cell_type": "code",
      "source": [],
      "metadata": {
        "id": "uKeGeCBP-egV"
      },
      "execution_count": null,
      "outputs": []
    },
    {
      "cell_type": "markdown",
      "source": [
        "# Visualise the dataset"
      ],
      "metadata": {
        "id": "cjvJUoBD8ZOd"
      }
    },
    {
      "cell_type": "code",
      "source": [
        "plt.style.use('seaborn')\n",
        "plt.figure(figsize = (10,10))\n",
        "plt.scatter(X[:,0], X[:,1], c=y, marker= '*',s=100,edgecolors='black')\n",
        "plt.show()"
      ],
      "metadata": {
        "id": "qhO1tA4l8fFb"
      },
      "execution_count": null,
      "outputs": []
    },
    {
      "cell_type": "markdown",
      "source": [
        "# Split the data"
      ],
      "metadata": {
        "id": "B5I2IEno8n1B"
      }
    },
    {
      "cell_type": "code",
      "source": [
        "X_train, X_test, y_train, y_test = train_test_split(X, y, random_state = 0)"
      ],
      "metadata": {
        "id": "4GlTADka8qu5"
      },
      "execution_count": null,
      "outputs": []
    },
    {
      "cell_type": "markdown",
      "source": [
        "# KNN Classifier"
      ],
      "metadata": {
        "id": "hgJj3XYe8ts5"
      }
    },
    {
      "cell_type": "code",
      "source": [
        "knn5 = KNeighborsClassifier(n_neighbors = 5)\n",
        "knn1 = KNeighborsClassifier(n_neighbors=1)"
      ],
      "metadata": {
        "id": "XX8FtXNt8y1Q"
      },
      "execution_count": null,
      "outputs": []
    },
    {
      "cell_type": "markdown",
      "source": [
        "# Predictions for the KNN classifier"
      ],
      "metadata": {
        "id": "I7Eljgdf83me"
      }
    },
    {
      "cell_type": "code",
      "source": [
        "knn5.fit(X_train, y_train)\n",
        "knn1.fit(X_train, y_train)\n",
        "\n",
        "y_pred_5 = knn5.predict(X_test)\n",
        "y_pred_1 = knn1.predict(X_test)"
      ],
      "metadata": {
        "id": "bXM2oqPJ884_"
      },
      "execution_count": null,
      "outputs": []
    },
    {
      "cell_type": "markdown",
      "source": [
        "# Predict Accuracy"
      ],
      "metadata": {
        "id": "5ZFQ0d6Z9A38"
      }
    },
    {
      "cell_type": "code",
      "source": [
        "from sklearn.metrics import accuracy_score\n",
        "print(\"Accuracy with k=5\", accuracy_score(y_test, y_pred_5)*100)\n",
        "print(\"Accuracy with k=1\", accuracy_score(y_test, y_pred_1)*100)"
      ],
      "metadata": {
        "id": "6wYcvav89DKg"
      },
      "execution_count": null,
      "outputs": []
    },
    {
      "cell_type": "markdown",
      "source": [
        "# Visualise Prediction"
      ],
      "metadata": {
        "id": "C9rPBHx99H3z"
      }
    },
    {
      "cell_type": "code",
      "source": [
        "plt.figure(figsize = (15,5))\n",
        "plt.subplot(1,2,1)\n",
        "plt.scatter(X_test[:,0], X_test[:,1], c=y_pred_5, marker= '*', s=100,edgecolors='black')\n",
        "plt.title(\"Predicted values with k=5\", fontsize=20)\n",
        "\n",
        "plt.subplot(1,2,2)\n",
        "plt.scatter(X_test[:,0], X_test[:,1], c=y_pred_1, marker= '*', s=100,edgecolors='black')\n",
        "plt.title(\"Predicted values with k=1\", fontsize=20)\n",
        "plt.show()"
      ],
      "metadata": {
        "id": "-s2gKJxx9LBw"
      },
      "execution_count": null,
      "outputs": []
    }
  ]
}